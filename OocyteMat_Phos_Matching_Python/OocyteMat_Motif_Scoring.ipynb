{
 "cells": [
  {
   "cell_type": "code",
   "execution_count": 1,
   "metadata": {},
   "outputs": [],
   "source": [
    "import pandas as pd\n",
    "import numpy as np\n",
    "import seaborn as sns\n",
    "import matplotlib.pyplot as plt\n",
    "from Bio.Align import substitution_matrices\n",
    "matrix_b90 = substitution_matrices.load(\"BLOSUM90\")\n",
    "import array"
   ]
  },
  {
   "cell_type": "code",
   "execution_count": 7,
   "metadata": {},
   "outputs": [
    {
     "data": {
      "text/html": [
       "<div>\n",
       "<style scoped>\n",
       "    .dataframe tbody tr th:only-of-type {\n",
       "        vertical-align: middle;\n",
       "    }\n",
       "\n",
       "    .dataframe tbody tr th {\n",
       "        vertical-align: top;\n",
       "    }\n",
       "\n",
       "    .dataframe thead th {\n",
       "        text-align: right;\n",
       "    }\n",
       "</style>\n",
       "<table border=\"1\" class=\"dataframe\">\n",
       "  <thead>\n",
       "    <tr style=\"text-align: right;\">\n",
       "      <th></th>\n",
       "      <th>Xenopus_Reference</th>\n",
       "      <th>Human_Reference</th>\n",
       "      <th>Match_Code</th>\n",
       "      <th>Xen_Residue</th>\n",
       "      <th>Human_Residue</th>\n",
       "      <th>Xen_Motif</th>\n",
       "      <th>Human_Motif</th>\n",
       "    </tr>\n",
       "  </thead>\n",
       "  <tbody>\n",
       "    <tr>\n",
       "      <th>0</th>\n",
       "      <td>gnl|gene10006|XL-9_2-gene10006|rna29084|</td>\n",
       "      <td>GN:SUPT16H|SPT16|human|Q9Y5B9</td>\n",
       "      <td>0</td>\n",
       "      <td>1006</td>\n",
       "      <td>1017</td>\n",
       "      <td>RKADRESLYEEVE</td>\n",
       "      <td>EQSRSMSRKRKAS</td>\n",
       "    </tr>\n",
       "    <tr>\n",
       "      <th>1</th>\n",
       "      <td>gnl|gene10015|XL-9_2-gene10015|rna29109|</td>\n",
       "      <td>GN:ATPIF1|ATPIF1|human|Q9UII2</td>\n",
       "      <td>0</td>\n",
       "      <td>24</td>\n",
       "      <td>27</td>\n",
       "      <td>MQMRRSSDQLGEL</td>\n",
       "      <td>QARGFGSDQSENV</td>\n",
       "    </tr>\n",
       "    <tr>\n",
       "      <th>2</th>\n",
       "      <td>gnl|gene10020|XL-9_2-gene10020|rna29121|</td>\n",
       "      <td>GN:PHAX|RNUXA|human|Q9H814</td>\n",
       "      <td>0</td>\n",
       "      <td>393</td>\n",
       "      <td>364</td>\n",
       "      <td>TNEALASLDDEHT</td>\n",
       "      <td>TNEALASLDESQE</td>\n",
       "    </tr>\n",
       "    <tr>\n",
       "      <th>3</th>\n",
       "      <td>gnl|gene10020|XL-9_2-gene10020|rna29121|</td>\n",
       "      <td>GN:PHAX|RNUXA|human|Q9H814</td>\n",
       "      <td>0</td>\n",
       "      <td>414</td>\n",
       "      <td>388</td>\n",
       "      <td>AIEIDNSHDLETF</td>\n",
       "      <td>AIEVDHSHDLDIF</td>\n",
       "    </tr>\n",
       "    <tr>\n",
       "      <th>4</th>\n",
       "      <td>gnl|gene10028|XL-9_2-gene10028|rna29144|</td>\n",
       "      <td>GN:PPM1G|PPM1G|human|O15355</td>\n",
       "      <td>-1</td>\n",
       "      <td>222</td>\n",
       "      <td>222</td>\n",
       "      <td>NaN</td>\n",
       "      <td>NaN</td>\n",
       "    </tr>\n",
       "  </tbody>\n",
       "</table>\n",
       "</div>"
      ],
      "text/plain": [
       "                          Xenopus_Reference                Human_Reference  \\\n",
       "0  gnl|gene10006|XL-9_2-gene10006|rna29084|  GN:SUPT16H|SPT16|human|Q9Y5B9   \n",
       "1  gnl|gene10015|XL-9_2-gene10015|rna29109|  GN:ATPIF1|ATPIF1|human|Q9UII2   \n",
       "2  gnl|gene10020|XL-9_2-gene10020|rna29121|     GN:PHAX|RNUXA|human|Q9H814   \n",
       "3  gnl|gene10020|XL-9_2-gene10020|rna29121|     GN:PHAX|RNUXA|human|Q9H814   \n",
       "4  gnl|gene10028|XL-9_2-gene10028|rna29144|    GN:PPM1G|PPM1G|human|O15355   \n",
       "\n",
       "   Match_Code  Xen_Residue Human_Residue      Xen_Motif    Human_Motif  \n",
       "0           0         1006          1017  RKADRESLYEEVE  EQSRSMSRKRKAS  \n",
       "1           0           24            27  MQMRRSSDQLGEL  QARGFGSDQSENV  \n",
       "2           0          393           364  TNEALASLDDEHT  TNEALASLDESQE  \n",
       "3           0          414           388  AIEIDNSHDLETF  AIEVDHSHDLDIF  \n",
       "4          -1          222           222            NaN            NaN  "
      ]
     },
     "execution_count": 7,
     "metadata": {},
     "output_type": "execute_result"
    }
   ],
   "source": [
    "matched_motifs = pd.read_csv(\"OocyteMat_HumanMatch_01192022_v2.csv\",dtype={\"Human_Residue\":str})\n",
    "matched_motifs.head()"
   ]
  },
  {
   "cell_type": "code",
   "execution_count": null,
   "metadata": {},
   "outputs": [],
   "source": []
  },
  {
   "cell_type": "code",
   "execution_count": 8,
   "metadata": {},
   "outputs": [],
   "source": [
    "num_match = sum(matched_motifs['Match_Code']==0)\n",
    "num_match_swap = sum(matched_motifs['Match_Code']==1)\n",
    "num_match_nopres = sum(matched_motifs['Match_Code']==3)\n",
    "num_match_gap = sum(matched_motifs['Match_Code']==-1)\n",
    "num_match_noalign = sum(matched_motifs['Match_Code']==-2)\n",
    "num_match_nohuman = sum(matched_motifs['Match_Code']==-3)\n",
    "total_num = len(matched_motifs)\n",
    "\n",
    "match_results_count = [num_match_nohuman, num_match_noalign, num_match_gap, num_match_nopres, num_match_swap, num_match]\n",
    "match_results_frac = [match_results_count[i]/total_num for i in range(len(match_results_count))]\n",
    "\n"
   ]
  },
  {
   "cell_type": "code",
   "execution_count": 12,
   "metadata": {},
   "outputs": [
    {
     "data": {
      "image/png": "[encoded data removed]",
      "text/plain": [
       "<Figure size 432x288 with 1 Axes>"
      ]
     },
     "metadata": {
      "needs_background": "light"
     },
     "output_type": "display_data"
    }
   ],
   "source": [
    "fig, ax = plt.subplots()\n",
    "ax.bar([i for i in range(len(match_results_frac))], match_results_frac)\n",
    "ax.set_xticks([i for i in range(len(match_results_frac))])\n",
    "ax.set_yticks([i/10 for i in range(6)])\n",
    "ax.set_xticklabels([\"No \\n Reference\",\"No \\n Residue\",\"Gap\", \"Not \\n Phosphorylatable\", \"S/T Swap\",\"Match\"])\n",
    "ax.set_ylabel(\"Fraction Total Residues\")\n",
    "ax.set_title(\"Human Alignment Results for \\n {} Phosphorylated Xenopus Residues\".format(total_num))\n",
    "plt.show()\n",
    "fig.savefig(\"Alignment_Results_Histogram_0117922.eps\", bbox_inches='tight')\n",
    "\n"
   ]
  },
  {
   "cell_type": "code",
   "execution_count": 9,
   "metadata": {},
   "outputs": [
    {
     "name": "stdout",
     "output_type": "stream",
     "text": [
      "[244 residues are on a reference that does not have a human match]\n",
      "3067 residues align to the same phosphorylatable residue\n",
      "91 residues align to an S/T swap\n",
      "1551 residues align to a non-phosphorylatable residue\n",
      "202 residues align to a gap on a human reference.\n",
      "1453 residues are in a region that does not align to the human reference.\n",
      "45.7 percent of residues on references that have human matches align to a phosphorylatable residues.\n"
     ]
    }
   ],
   "source": [
    "print(\"[{} residues are on a reference that does not have a human match]\".format(num_match_nohuman))\n",
    "print(\"{} residues align to the same phosphorylatable residue\".format(num_match))\n",
    "print(\"{} residues align to an S/T swap\".format(num_match_swap))\n",
    "print(\"{} residues align to a non-phosphorylatable residue\".format(num_match_nopres))\n",
    "print(\"{} residues align to a gap on a human reference.\".format(num_match_gap))\n",
    "print(\"{} residues are in a region that does not align to the human reference.\".format(num_match_noalign))\n",
    "print(\"{} percent of residues on references that have human matches align to a phosphorylatable residues.\"\\\n",
    "     .format(round(((num_match+num_match_swap)/total_num)*100,2)))\n"
   ]
  },
  {
   "cell_type": "code",
   "execution_count": 11,
   "metadata": {},
   "outputs": [],
   "source": [
    "def score_align(xen_in, hs_in, match_x, mismatch_x, matrix_b90):\n",
    "    import numpy as np\n",
    "    \n",
    "    return_info = np.zeros((3,2))\n",
    "    \n",
    "    ind_f = (0, 12)\n",
    "    \n",
    "    for i in range(len(ind_f)):\n",
    "        \n",
    "        which_way = ind_f[i]\n",
    "    \n",
    "        #for j in range(len(xen_m)):\n",
    "        for j in [0,1,2,3,4,5,7,8,9,10,11,12]:\n",
    "        \n",
    "            k = abs(j-which_way)\n",
    "            \n",
    "            if (xen_in[j] != \"x\" and xen_in[k] != \"x\" and hs_in[j] != \"x\" and hs_in[k] != \"x\"):\n",
    "                \n",
    "                return_info[2,i] += matrix_b90[xen_in[j]][hs_in[k]]\n",
    "                return_info[0,i] += matrix_b90[xen_in[j]][xen_in[k]]\n",
    "                return_info[1,i] += matrix_b90[hs_in[j]][hs_in[k]]\n",
    "          \n",
    "            elif (xen_in[j] == \"x\" and xen_in[k] == \"x\" and hs_in[j] == \"x\" and hs_in[k] == \"x\"):\n",
    "            \n",
    "                return_info[2,i] += match_x\n",
    "                return_info[0,i] += match_x\n",
    "                return_info[1,i] += match_x\n",
    "        \n",
    "            elif ((xen_in[j] == \"x\" and xen_in[k] == \"x\") and (hs_in[j] != \"x\" and hs_in[k] != \"x\")):\n",
    "\n",
    "                return_info[2,i] += mismatch_x\n",
    "                return_info[0,i] += match_x\n",
    "                return_info[1,i] += matrix_b90[hs_in[j]][hs_in[k]]\n",
    "        \n",
    "            elif ((xen_in[j] != \"x\" and xen_in[k] != \"x\") and (hs_in[j] == \"x\" and hs_in[k] == \"x\")):\n",
    "                \n",
    "                return_info[2,i] += mismatch_x\n",
    "                return_info[0,i] += match_x\n",
    "                return_info[1,i] += matrix_b90[xen_in[j]][xen_in[k]]\n",
    "    \n",
    "    return return_info\n",
    "\n",
    "matched_motifs_F = matched_motifs[matched_motifs[\"Match_Code\"]>=0]\n",
    "store_score = []\n",
    "\n",
    "match_x = (np.diag(matrix_b90)).mean()\n",
    "store_mm_vals = []\n",
    "\n",
    "for i in range(len(matrix_b90)):\n",
    "    for j in range(1,i):\n",
    "        store_mm_vals.append(matrix_b90[i][j])\n",
    "\n",
    "mismatch_x = np.mean(store_mm_vals)\n",
    "\n",
    "for i in range(len(matched_motifs_F)):\n",
    "    xen_m = (matched_motifs_F.iloc[i,5])\n",
    "    hs_m = (matched_motifs_F.iloc[i,6])\n",
    "    \n",
    "    return_info = score_align(xen_m, hs_m, match_x, mismatch_x, matrix_b90)\n",
    "    f_best = max(return_info[:,0])\n",
    "    f_worst = min(return_info[:,1])\n",
    "    store_score.append(round((return_info[2,0] - f_worst)/(f_best - f_worst),2))\n",
    "    \n",
    "store_score_pd = pd.DataFrame(store_score)\n",
    "matched_motifs_F = matched_motifs_F.assign(Motif_Score = store_score_pd.values)\n"
   ]
  },
  {
   "cell_type": "code",
   "execution_count": 12,
   "metadata": {},
   "outputs": [],
   "source": [
    "matches_only = matched_motifs_F[matched_motifs_F[\"Match_Code\"]<3]\n",
    "#print(np.mean(matches_only[\"Motif_Score\"]))\n",
    "\n",
    "[m_counts,bins] = np.histogram(matches_only[\"Motif_Score\"], bins= [i/20 for i in range(21)])\n",
    "match_h = np.histogram(matches_only[\"Motif_Score\"], bins= [i/20 for i in range(21)])\n",
    "\n",
    "mmatches_only = matched_motifs_F[matched_motifs_F[\"Match_Code\"]==3]\n",
    "#np.mean(mmatches_only[\"store_score_pd\"])\n",
    "\n",
    "[mm_counts,bins] = np.histogram(mmatches_only[\"Motif_Score\"], bins= [i/20 for i in range(21)])\n",
    "\n",
    "fraction_m = [round(mm_counts[i]/(m_counts[i]+mm_counts[i]),2) for i in range(len(m_counts))]\n",
    "FDR_atcutoff = [round(sum(mm_counts[i:])/(sum(m_counts[i:])+sum(mm_counts[i:])),3)*100 for i in range(len(m_counts))]\n"
   ]
  },
  {
   "cell_type": "code",
   "execution_count": 18,
   "metadata": {},
   "outputs": [
    {
     "data": {
      "image/png": "[encoded data removed]",
      "text/plain": [
       "<Figure size 432x288 with 2 Axes>"
      ]
     },
     "metadata": {
      "needs_background": "light"
     },
     "output_type": "display_data"
    },
    {
     "name": "stderr",
     "output_type": "stream",
     "text": [
      "The PostScript backend does not support transparency; partially transparent artists will be rendered opaque.\n",
      "The PostScript backend does not support transparency; partially transparent artists will be rendered opaque.\n",
      "The PostScript backend does not support transparency; partially transparent artists will be rendered opaque.\n",
      "The PostScript backend does not support transparency; partially transparent artists will be rendered opaque.\n"
     ]
    }
   ],
   "source": [
    "# make a plot of the distribution of scores for phosphorylateable matches vs not phosphorylatable\n",
    "# and also include the FDR rate as a line\n",
    "\n",
    "width = 0.025  # the width of the bars\n",
    "fig, ax = plt.subplots()\n",
    "\n",
    "ax.bar(x = bins[:len(bins)-1]-width/2.5, height = m_counts, width = 0.025, label='Matches')\n",
    "ax.bar(x = bins[:len(bins)-1]+width/2.5, height = mm_counts, width = 0.025, label='MisMatches')\n",
    "\n",
    "ax2 = ax.twinx()\n",
    "ax2.plot(bins[:len(bins)-1], FDR_atcutoff, color = \"pink\", label = \"FDR\", linewidth = '4')\n",
    "ax2.plot([bins[15]-2.2*width/2.5 for i in range(25)],[i for i in range(25)], color = \"black\",\\\n",
    "         label = \"Cutoff >= 0.75\")\n",
    "\n",
    "ax2.set_ylabel('False Discovery Rate')\n",
    "ax2.legend(loc = \"upper center\")\n",
    "\n",
    "ax.set_ylabel('Motif Score')\n",
    "ax.set_title('Scores for Matches vs. MisMatches')\n",
    "ax.legend(loc=\"center left\")\n",
    "\n",
    "plt.show()\n",
    "\n",
    "fig.savefig(\"MotifScoreHistogram_wFDR_011922.eps\", bbox_inches='tight')\n"
   ]
  },
  {
   "cell_type": "code",
   "execution_count": 13,
   "metadata": {},
   "outputs": [],
   "source": [
    "matched_motifs_keep = \\\n",
    "matched_motifs_F[(matched_motifs_F[\"Match_Code\"] <= 1) & (matched_motifs_F[\"Motif_Score\"] >= 0.75)]\n",
    "matched_motifs_keep.to_csv(\"Matched_Filtered0p75_012022.csv\", index = False)"
   ]
  },
  {
   "cell_type": "code",
   "execution_count": null,
   "metadata": {},
   "outputs": [],
   "source": []
  }
 ],
 "metadata": {
  "kernelspec": {
   "display_name": "Python 3",
   "language": "python",
   "name": "python3"
  },
  "language_info": {
   "codemirror_mode": {
    "name": "ipython",
    "version": 3
   },
   "file_extension": ".py",
   "mimetype": "text/x-python",
   "name": "python",
   "nbconvert_exporter": "python",
   "pygments_lexer": "ipython3",
   "version": "3.8.5"
  }
 },
 "nbformat": 4,
 "nbformat_minor": 4
}
